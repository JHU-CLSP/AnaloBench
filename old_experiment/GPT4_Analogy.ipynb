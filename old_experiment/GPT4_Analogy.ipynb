{
  "nbformat": 4,
  "nbformat_minor": 0,
  "metadata": {
    "colab": {
      "provenance": [],
      "toc_visible": true
    },
    "kernelspec": {
      "name": "python3",
      "display_name": "Python 3"
    },
    "language_info": {
      "name": "python"
    }
  },
  "cells": [
    {
      "cell_type": "code",
      "source": [
        "import requests\n",
        "import random\n",
        "import json"
      ],
      "metadata": {
        "id": "AgQIrzXeCQL2"
      },
      "execution_count": 53,
      "outputs": []
    },
    {
      "cell_type": "code",
      "execution_count": 2,
      "metadata": {
        "id": "xqEJmkqOB7_p"
      },
      "outputs": [],
      "source": [
        "API_KEY = \"Some Token Here\"\n",
        "API_ENDPOINT = \"https://api.openai.com/v1/chat/completions\""
      ]
    },
    {
      "cell_type": "code",
      "source": [
        "def generate_chat_completion(messages, model=\"gpt-4\", temperature=1, top_p=1, max_tokens=2000):\n",
        "    headers = {\n",
        "        \"Content-Type\": \"application/json\",\n",
        "        \"Authorization\": f\"Bearer {API_KEY}\",\n",
        "    }\n",
        "\n",
        "    data = {\n",
        "        \"model\": model,\n",
        "        \"messages\": messages,\n",
        "        \"temperature\": temperature,\n",
        "        \"top_p\": top_p,\n",
        "        \"max_tokens\": max_tokens,\n",
        "    }\n",
        "\n",
        "    response = requests.post(API_ENDPOINT, headers=headers, data=json.dumps(data))\n",
        "\n",
        "    if response.status_code == 200:\n",
        "        return response.json()[\"choices\"][0][\"message\"][\"content\"]\n",
        "    else:\n",
        "        raise Exception(f\"Error {response.status_code}: {response.text}\")"
      ],
      "metadata": {
        "id": "wFw01x1ECNaq"
      },
      "execution_count": 22,
      "outputs": []
    },
    {
      "cell_type": "markdown",
      "source": [
        "# Sentence"
      ],
      "metadata": {
        "id": "m1F0nAy_DHVJ"
      }
    },
    {
      "cell_type": "code",
      "source": [
        "# Settings\n",
        "temperature = 1\n",
        "top_p = 1\n",
        "max_tokens = 1000"
      ],
      "metadata": {
        "id": "noNu6g25DD-b"
      },
      "execution_count": 15,
      "outputs": []
    },
    {
      "cell_type": "code",
      "source": [
        "sentence1 = \"A forest grew near the river.\"\n",
        "sentence2 = \"Many students came to study under the guru.\""
      ],
      "metadata": {
        "id": "_-XoaYi7Dm_C"
      },
      "execution_count": 16,
      "outputs": []
    },
    {
      "cell_type": "markdown",
      "source": [
        "**Extract Analogies**"
      ],
      "metadata": {
        "id": "CAZc8JvfD3Lg"
      }
    },
    {
      "cell_type": "code",
      "source": [
        "prompt = f\"\"\"\n",
        "List the analogous elements between the following 2 sentences:\n",
        "\n",
        "E.g.\n",
        "Sentence1: The boy is lucky to have the man's lifelong support to win all the soccer games since they hoped it would spread the sport.\n",
        "\n",
        "Sentence2: Women are supportive of the girls in their mission to get the dance competition prize since they hoped it would benefit the girls.\n",
        "\n",
        "Analogies:\n",
        "- Man <-> Woman | Explanation: they're the supporters in both stories\n",
        "- Boy <-> Girl | Explanation: they're both being supported in both stories\n",
        "- Winning the soccer game <-> Winning the dance competition prize | Explanation: the goal of winning in both stories\n",
        "...\n",
        "\n",
        "Sentence1: {sentence1}\n",
        "\n",
        "Sentence2: {sentence2}\n",
        "\n",
        "Analogies:\n",
        "\"\"\"\n",
        "messages = [\n",
        "    {\"role\": \"user\", \"content\": prompt}\n",
        "]"
      ],
      "metadata": {
        "id": "gZQHeXwWD5Z0"
      },
      "execution_count": 43,
      "outputs": []
    },
    {
      "cell_type": "code",
      "source": [
        "print(prompt)"
      ],
      "metadata": {
        "colab": {
          "base_uri": "https://localhost:8080/"
        },
        "id": "odOoBW0TErFi",
        "outputId": "7d737abe-e489-4a0d-a6be-5b8507bd6ae7"
      },
      "execution_count": 44,
      "outputs": [
        {
          "output_type": "stream",
          "name": "stdout",
          "text": [
            "\n",
            "List the analogous elements between the following 2 sentences:\n",
            "\n",
            "E.g.\n",
            "Sentence1: The boy is lucky to have the man's lifelong support to win all the soccer games since they hoped it would spread the sport.\n",
            "\n",
            "Sentence2: Women are supportive of the girls in their mission to get the dance competition prize since they hoped it would benefit the girls.\n",
            "\n",
            "Analogies:\n",
            "- Man <-> Woman | Explanation: they're the supporters in both stories\n",
            "- Boy <-> Girl | Explanation: they're both being supported in both stories\n",
            "- Winning the soccer game <-> Winning the dance competition prize | Explanation: the goal of winning in both stories\n",
            "...\n",
            "\n",
            "Sentence1: A forest grew near the river.\n",
            "\n",
            "Sentence2: Many students came to study under the guru.\n",
            "\n",
            "Analogies:\n",
            "\n"
          ]
        }
      ]
    },
    {
      "cell_type": "code",
      "source": [
        "correct_output = generate_chat_completion(messages, model=\"gpt-4\", temperature=temperature, top_p=top_p, max_tokens=max_tokens)\n",
        "print(correct_output)"
      ],
      "metadata": {
        "colab": {
          "base_uri": "https://localhost:8080/"
        },
        "id": "81rejbonEYAa",
        "outputId": "98068549-e09c-4bb1-d8d0-58ab911f87b0"
      },
      "execution_count": 45,
      "outputs": [
        {
          "output_type": "stream",
          "name": "stdout",
          "text": [
            "- Forest <-> Students | Explanation: both are growing/accumulating entities in each sentence\n",
            "- River <-> Guru | Explanation: both are the places/sources that attract the entities (forest/students) in each sentence\n",
            "- Grew <-> Came to study | Explanation: both describe the action of the entities towards the place/source in each sentence.\n"
          ]
        }
      ]
    },
    {
      "cell_type": "markdown",
      "source": [
        "**Generate Incorrect Analogies**"
      ],
      "metadata": {
        "id": "q7bMshZdF7wA"
      }
    },
    {
      "cell_type": "code",
      "source": [
        "prompt = f\"\"\"\n",
        "Given two sentences, incorrectly identify the analogous elements without considering the subjects and their experiences in both scenarios. Remember to mismatch the subjects and their struggles.\n",
        "\n",
        "E.g.\n",
        "Sentence1: The boy is lucky to have the man's lifelong support to win all the soccer games since they hoped it would spread the sport.\n",
        "\n",
        "Sentence2: Women are supportive of the girls in their mission to get the dance competition prize since they hoped it would benefit the girls.\n",
        "\n",
        "Incorrect Analogies:\n",
        "- Winning the soccer game <-> Girls | Explanation: Winning the soccer game is the goal in the first story, girls are the subject in the second story.\n",
        "- Boy <-> Winning the dance competition prize | Explanation: Boy is the subject being supported in the first story, whereas winning the dance competition is the goal in the second story.\n",
        "- Man <-> Dance competition | Explanation: Man is the supporter in the first story, dance competition is the event in the second story.\n",
        "...\n",
        "\n",
        "Sentence1: {sentence1}\n",
        "\n",
        "Sentence2: {sentence2}\n",
        "\n",
        "Analogies:\n",
        "\"\"\"\n",
        "messages = [\n",
        "    {\"role\": \"user\", \"content\": prompt}\n",
        "]"
      ],
      "metadata": {
        "id": "n5iYRIjXGAb-"
      },
      "execution_count": 46,
      "outputs": []
    },
    {
      "cell_type": "code",
      "source": [
        "print(prompt)"
      ],
      "metadata": {
        "colab": {
          "base_uri": "https://localhost:8080/"
        },
        "id": "e5pVkyZ7GJ1V",
        "outputId": "17ea7f3b-633d-42c4-a422-c5a30bfeec24"
      },
      "execution_count": 47,
      "outputs": [
        {
          "output_type": "stream",
          "name": "stdout",
          "text": [
            "\n",
            "Given two sentences, incorrectly identify the analogous elements without considering the subjects and their experiences in both scenarios. Remember to mismatch the subjects and their struggles.\n",
            "\n",
            "E.g.\n",
            "Sentence1: The boy is lucky to have the man's lifelong support to win all the soccer games since they hoped it would spread the sport.\n",
            "\n",
            "Sentence2: Women are supportive of the girls in their mission to get the dance competition prize since they hoped it would benefit the girls.\n",
            "\n",
            "Incorrect Analogies:\n",
            "- Winning the soccer game <-> Girls | Explanation: Winning the soccer game is the goal in the first story, girls are the subject in the second story.\n",
            "- Boy <-> Winning the dance competition prize | Explanation: Boy is the subject being supported in the first story, whereas winning the dance competition is the goal in the second story.\n",
            "- Man <-> Dance competition | Explanation: Man is the supporter in the first story, dance competition is the event in the second story.\n",
            "...\n",
            "\n",
            "Sentence1: A forest grew near the river.\n",
            "\n",
            "Sentence2: Many students came to study under the guru.\n",
            "\n",
            "Analogies:\n",
            "\n"
          ]
        }
      ]
    },
    {
      "cell_type": "code",
      "source": [
        "# This prompt won't always work on this instance, more examples are written in md file\n",
        "incorrect_output = generate_chat_completion(messages, model=\"gpt-4\", temperature=temperature, top_p=top_p, max_tokens=max_tokens)\n",
        "print(incorrect_output)"
      ],
      "metadata": {
        "colab": {
          "base_uri": "https://localhost:8080/"
        },
        "id": "icOmOjdCGMiF",
        "outputId": "375869af-1385-411c-f34e-e11e15c038f4"
      },
      "execution_count": 35,
      "outputs": [
        {
          "output_type": "stream",
          "name": "stdout",
          "text": [
            "- Forest <-> Guru | Explanation: Forest is a location in the first story, while Guru is an individual in the second story.\n",
            "- River <-> Study | Explanation: River is a reference to a physical location in the first story, whereas studying is an action in the second scenario.\n",
            "- Grew <-> Students | Explanation: \"Grew\" is a process happening in the first scenario, whereas \"students\" are the subjects in the second scenario.\n"
          ]
        }
      ]
    },
    {
      "cell_type": "markdown",
      "source": [
        "**Evaluation**"
      ],
      "metadata": {
        "id": "NIZwaU_GGgsy"
      }
    },
    {
      "cell_type": "code",
      "source": [
        "correct_output_items = correct_output.split(\"\\n\")\n",
        "incorrect_output_items = incorrect_output.split(\"\\n\")\n",
        "\n",
        "combined_output_items = correct_output_items + incorrect_output_items\n",
        "options = []\n",
        "for i, item in enumerate(combined_output_items):\n",
        "    index_label = chr(ord('A') + i)\n",
        "    options.append(f\"{index_label}. {item}\")\n",
        "options = \"\\n\".join(options)\n",
        "print(options)"
      ],
      "metadata": {
        "colab": {
          "base_uri": "https://localhost:8080/"
        },
        "id": "n_ymENLHH4cG",
        "outputId": "2cdfeb58-1c7e-4488-d208-75dd9d9ad616"
      },
      "execution_count": 48,
      "outputs": [
        {
          "output_type": "stream",
          "name": "stdout",
          "text": [
            "A. - Forest <-> Students | Explanation: both are growing/accumulating entities in each sentence\n",
            "B. - River <-> Guru | Explanation: both are the places/sources that attract the entities (forest/students) in each sentence\n",
            "C. - Grew <-> Came to study | Explanation: both describe the action of the entities towards the place/source in each sentence.\n",
            "D. - Forest <-> Guru | Explanation: Forest is a location in the first story, while Guru is an individual in the second story.\n",
            "E. - River <-> Study | Explanation: River is a reference to a physical location in the first story, whereas studying is an action in the second scenario.\n",
            "F. - Grew <-> Students | Explanation: \"Grew\" is a process happening in the first scenario, whereas \"students\" are the subjects in the second scenario.\n"
          ]
        }
      ]
    },
    {
      "cell_type": "code",
      "source": [
        "prompt = f\"\"\"\n",
        "The following is a multiple-choice question. Please select all options that you believe are correct.\n",
        "NOTE: Only generate the index.\n",
        "\n",
        "Identify the analogies between the following 2 sentences:\n",
        "\n",
        "Sentence1: {sentence1}\n",
        "\n",
        "Sentence2: {sentence2}\n",
        "\n",
        "Options:\n",
        "{options}\n",
        "\"\"\"\n",
        "messages = [\n",
        "    {\"role\": \"user\", \"content\": prompt}\n",
        "]"
      ],
      "metadata": {
        "id": "3jflXlLKGlff"
      },
      "execution_count": 49,
      "outputs": []
    },
    {
      "cell_type": "code",
      "source": [
        "print(prompt)"
      ],
      "metadata": {
        "colab": {
          "base_uri": "https://localhost:8080/"
        },
        "id": "995VaGrjJeXe",
        "outputId": "073fc027-c269-4f1e-ef56-811790514f79"
      },
      "execution_count": 50,
      "outputs": [
        {
          "output_type": "stream",
          "name": "stdout",
          "text": [
            "\n",
            "The following is a multiple-choice question. Please select all options that you believe are correct.\n",
            "NOTE: Only generate the index.\n",
            "\n",
            "Identify the analogies between the following 2 sentences:\n",
            "\n",
            "Sentence1: A forest grew near the river.\n",
            "\n",
            "Sentence2: Many students came to study under the guru.\n",
            "\n",
            "Options:\n",
            "A. - Forest <-> Students | Explanation: both are growing/accumulating entities in each sentence\n",
            "B. - River <-> Guru | Explanation: both are the places/sources that attract the entities (forest/students) in each sentence\n",
            "C. - Grew <-> Came to study | Explanation: both describe the action of the entities towards the place/source in each sentence.\n",
            "D. - Forest <-> Guru | Explanation: Forest is a location in the first story, while Guru is an individual in the second story.\n",
            "E. - River <-> Study | Explanation: River is a reference to a physical location in the first story, whereas studying is an action in the second scenario.\n",
            "F. - Grew <-> Students | Explanation: \"Grew\" is a process happening in the first scenario, whereas \"students\" are the subjects in the second scenario.\n",
            "\n"
          ]
        }
      ]
    },
    {
      "cell_type": "code",
      "source": [
        "result = generate_chat_completion(messages, model=\"gpt-4\", temperature=temperature, top_p=top_p, max_tokens=max_tokens)\n",
        "print(result)"
      ],
      "metadata": {
        "colab": {
          "base_uri": "https://localhost:8080/"
        },
        "id": "h9LIPzdSJjgE",
        "outputId": "863ebbba-f3dd-4926-85f1-ea97c026c27c"
      },
      "execution_count": 51,
      "outputs": [
        {
          "output_type": "stream",
          "name": "stdout",
          "text": [
            "A, B, C\n"
          ]
        }
      ]
    },
    {
      "cell_type": "markdown",
      "source": [
        "# Diverse Story"
      ],
      "metadata": {
        "id": "YNwpPWGkDOVI"
      }
    },
    {
      "cell_type": "markdown",
      "source": [
        "\n",
        "\n",
        " **Generate Story**"
      ],
      "metadata": {
        "id": "QAcBkWLzKssE"
      }
    },
    {
      "cell_type": "code",
      "source": [
        "# Settings\n",
        "temperature = 1.6\n",
        "top_p = 0.95\n",
        "max_tokens = 1500"
      ],
      "metadata": {
        "id": "oB8k-HODKvI_"
      },
      "execution_count": 66,
      "outputs": []
    },
    {
      "cell_type": "code",
      "source": [
        "style = [\"Narrative\", \"Descriptive\", \"Expository\", \"Persuasive\", \"Creative\", \"Objective\", \"Subjective\", \"Review\", \"Poetry\", \"Technical\"]\n",
        "sentence1 = \"A forest grew near the river.\"\n",
        "sentence2 = \"Many students came to study under the guru.\""
      ],
      "metadata": {
        "id": "LOxzersvK3o8"
      },
      "execution_count": 54,
      "outputs": []
    },
    {
      "cell_type": "code",
      "source": [
        "prompt = f\"\"\"\n",
        "Generate a 7-10 sentence {random.choice(style)} style story with respect to the following sentence:\n",
        "\n",
        "Sentence: {sentence1}\n",
        "\n",
        "\"\"\"\n",
        "messages = [\n",
        "    {\"role\": \"user\", \"content\": prompt}\n",
        "]"
      ],
      "metadata": {
        "id": "NWlBeaWOLWRf"
      },
      "execution_count": 64,
      "outputs": []
    },
    {
      "cell_type": "code",
      "source": [
        "print(prompt)"
      ],
      "metadata": {
        "colab": {
          "base_uri": "https://localhost:8080/"
        },
        "id": "JV2SyyL6L0JD",
        "outputId": "88eeb001-8616-4008-b0a2-951b5c4e25c5"
      },
      "execution_count": 65,
      "outputs": [
        {
          "output_type": "stream",
          "name": "stdout",
          "text": [
            "\n",
            "Generate a 7-10 sentence Creative style story with respect to the following sentence:\n",
            "\n",
            "Sentence: A forest grew near the river.\n",
            "\n",
            "\n"
          ]
        }
      ]
    },
    {
      "cell_type": "code",
      "source": [
        "story1 = generate_chat_completion(messages, model=\"gpt-4\", temperature=temperature, top_p=top_p, max_tokens=max_tokens)"
      ],
      "metadata": {
        "id": "lm7tqNIBLtcJ"
      },
      "execution_count": 67,
      "outputs": []
    },
    {
      "cell_type": "code",
      "source": [
        "print(story1)\n"
      ],
      "metadata": {
        "colab": {
          "base_uri": "https://localhost:8080/"
        },
        "id": "prueG6sDL-mE",
        "outputId": "d5faf664-3831-4f61-d29e-855b8ad2a7ce"
      },
      "execution_count": 68,
      "outputs": [
        {
          "output_type": "stream",
          "name": "stdout",
          "text": [
            "In an ancient kingdom, overlooked by the mountains, a mystic forest emerged near the river, its trees quietly whispering to the sky. The hues of its green branches mingled with the blue of the serene waters. Nature and wildlife danced hand in hand, creating a song of perfect harmony that echoed through the rolling meadows. As dawn broke, the soft sunlight would tiptoe through the tangled branches, painting strokes of gold on the landscape. Here, whispered tales of adventure took root, of mystical creatures and brave voyagers hidden within the verdant greens. During nightfall, silver glow of the moon danced on the river, the silhouette of the forest transformed into shadow puppets narrating stories of yore. This river-nurtured forest was not merely an ecosystem; it was a world within itself, a dream crafted by nature, draped in mystery and fantasy. The endless ballet of light and shadows held timeless tales, if only one would sit quietly, and listen to the trees.\n"
          ]
        }
      ]
    },
    {
      "cell_type": "code",
      "source": [
        "prompt = f\"\"\"\n",
        "Generate a 7-10 sentence {random.choice(style)} style story with respect to the following sentence:\n",
        "\n",
        "Sentence: {sentence2}\n",
        "\n",
        "\"\"\"\n",
        "messages = [\n",
        "    {\"role\": \"user\", \"content\": prompt}\n",
        "]"
      ],
      "metadata": {
        "id": "aR8WZ-JjMAwO"
      },
      "execution_count": 69,
      "outputs": []
    },
    {
      "cell_type": "code",
      "source": [
        "print(prompt)"
      ],
      "metadata": {
        "colab": {
          "base_uri": "https://localhost:8080/"
        },
        "id": "9fUSMDNNMTLM",
        "outputId": "8afaa684-476d-4dc5-a874-be30f7fb7689"
      },
      "execution_count": 72,
      "outputs": [
        {
          "output_type": "stream",
          "name": "stdout",
          "text": [
            "\n",
            "Generate a 7-10 sentence Review style story with respect to the following sentence:\n",
            "\n",
            "Sentence: Many students came to study under the guru.\n",
            "\n",
            "\n"
          ]
        }
      ]
    },
    {
      "cell_type": "code",
      "source": [
        "story2 = generate_chat_completion(messages, model=\"gpt-4\", temperature=temperature, top_p=top_p, max_tokens=max_tokens)"
      ],
      "metadata": {
        "id": "fDuCZGj1MD8H"
      },
      "execution_count": 70,
      "outputs": []
    },
    {
      "cell_type": "code",
      "source": [
        "print(story2)"
      ],
      "metadata": {
        "colab": {
          "base_uri": "https://localhost:8080/"
        },
        "id": "M9edJt5LMQMS",
        "outputId": "e12aea28-ad27-426f-c410-9dc5a35a4016"
      },
      "execution_count": 71,
      "outputs": [
        {
          "output_type": "stream",
          "name": "stdout",
          "text": [
            "Students, from near and far, thronged to the teachings of the revered guru. His wisdom, deep like an abyss, echoed harmoniously, inciting in students the thirst to unlock their intellectual potential. With each passing lecture, a shared bond of learning and discovery grew stronger amongst the disciples. The guru’s profound insight and unique perspective not only elevated their learning experience, it encouraged them to view life through an entirely different lens.\n",
            "\n",
            "The air brimmed with innovative thoughts and ideas as many immersed themselves in the sacred pool of enlightenment under this philosophical figure. The skillful tutelage had the power to nurture young minds, inspiring them to evolve into budding thinkers. To sum it up, the guru’s able guidance was akin to a rare gem in the academic arena, a beacon of wisdom, driving multitudes to this intellectual pilgrimage. \n",
            "\n",
            "His teaching legacy would undoubtedly ripple across generations, guiding learners of every age to approach the world in all its glorious complexity with open, curious minds. Such was the potent allure of the sage that drew many students to study under his esteemed guidance.\n"
          ]
        }
      ]
    },
    {
      "cell_type": "markdown",
      "source": [
        "**Extract Analogies**"
      ],
      "metadata": {
        "id": "AVBLJkRyMXzn"
      }
    },
    {
      "cell_type": "code",
      "source": [
        "# Settings\n",
        "temperature = 1\n",
        "top_p = 1\n",
        "max_tokens = 1000"
      ],
      "metadata": {
        "id": "Gf66XQiHMvAk"
      },
      "execution_count": 75,
      "outputs": []
    },
    {
      "cell_type": "code",
      "source": [
        "prompt = f\"\"\"\n",
        "List the analogous elements between the following 2 stories:\n",
        "\n",
        "E.g.\n",
        "Story1: The boy is lucky to have the man's lifelong support to win all the soccer games since they hoped it would spread the sport.\n",
        "\n",
        "Story2: Women are supportive of the girls in their mission to get the dance competition prize since they hoped it would benefit the girls.\n",
        "\n",
        "Analogies:\n",
        "- Man <-> Woman | Explanation: they're the supporters in both stories\n",
        "- Boy <-> Girl | Explanation: they're both being supported in both stories\n",
        "- Winning the soccer game <-> Winning the dance competition prize | Explanation: the goal of winning in both stories\n",
        "...\n",
        "\n",
        "Story1: The water is flowing fast from a large beaker to a smaller one through a narrow pipe. It was all done in 15 minutes.\n",
        "\n",
        "Story2: The parents try to slowly instill bits of knowledge in their child through simple communication. This often takes repetition.\n",
        "\n",
        "Analogies:\n",
        "- flow <-> instill | Explanation: They're both the action being described.\n",
        "- large beaker <-> parent | Explanation: they're both the source of the action.\n",
        "- small beaker <-> child | Explanation: they're both the target of the action in both stories\n",
        "- water <-> knowledge | Explanation: they're both the object of the action (the content of the flow).\n",
        "- narrow pipe <-> communication | Explanation: they're both the means of the action (how the flow happens).\n",
        "...\n",
        "\n",
        "Story1: {story1}\n",
        "Story2: {story2}\n",
        "\n",
        "Analogies:\n",
        "\"\"\"\n",
        "messages = [\n",
        "    {\"role\": \"user\", \"content\": prompt}\n",
        "]\n",
        "\n"
      ],
      "metadata": {
        "id": "a9i0sRa2MWfy"
      },
      "execution_count": 73,
      "outputs": []
    },
    {
      "cell_type": "code",
      "source": [
        "print(prompt)"
      ],
      "metadata": {
        "colab": {
          "base_uri": "https://localhost:8080/"
        },
        "id": "q5NDYIOSM-3Y",
        "outputId": "1fb46e43-c860-434b-d736-6a033b159fdd"
      },
      "execution_count": 74,
      "outputs": [
        {
          "output_type": "stream",
          "name": "stdout",
          "text": [
            "\n",
            "List the analogous elements between the following 2 stories:\n",
            "\n",
            "E.g.\n",
            "Story1: The boy is lucky to have the man's lifelong support to win all the soccer games since they hoped it would spread the sport.\n",
            "\n",
            "Story2: Women are supportive of the girls in their mission to get the dance competition prize since they hoped it would benefit the girls.\n",
            "\n",
            "Analogies:\n",
            "- Man <-> Woman | Explanation: they're the supporters in both stories\n",
            "- Boy <-> Girl | Explanation: they're both being supported in both stories\n",
            "- Winning the soccer game <-> Winning the dance competition prize | Explanation: the goal of winning in both stories\n",
            "...\n",
            "\n",
            "Story1: The water is flowing fast from a large beaker to a smaller one through a narrow pipe. It was all done in 15 minutes.\n",
            "\n",
            "Story2: The parents try to slowly instill bits of knowledge in their child through simple communication. This often takes repetition.\n",
            "\n",
            "Analogies:\n",
            "- flow <-> instill | Explanation: They're both the action being described.\n",
            "- large beaker <-> parent | Explanation: they're both the source of the action.\n",
            "- small beaker <-> child | Explanation: they're both the target of the action in both stories\n",
            "- water <-> knowledge | Explanation: they're both the object of the action (the content of the flow).\n",
            "- narrow pipe <-> communication | Explanation: they're both the means of the action (how the flow happens).\n",
            "...\n",
            "\n",
            "Story1: In an ancient kingdom, overlooked by the mountains, a mystic forest emerged near the river, its trees quietly whispering to the sky. The hues of its green branches mingled with the blue of the serene waters. Nature and wildlife danced hand in hand, creating a song of perfect harmony that echoed through the rolling meadows. As dawn broke, the soft sunlight would tiptoe through the tangled branches, painting strokes of gold on the landscape. Here, whispered tales of adventure took root, of mystical creatures and brave voyagers hidden within the verdant greens. During nightfall, silver glow of the moon danced on the river, the silhouette of the forest transformed into shadow puppets narrating stories of yore. This river-nurtured forest was not merely an ecosystem; it was a world within itself, a dream crafted by nature, draped in mystery and fantasy. The endless ballet of light and shadows held timeless tales, if only one would sit quietly, and listen to the trees.\n",
            "Story2: Students, from near and far, thronged to the teachings of the revered guru. His wisdom, deep like an abyss, echoed harmoniously, inciting in students the thirst to unlock their intellectual potential. With each passing lecture, a shared bond of learning and discovery grew stronger amongst the disciples. The guru’s profound insight and unique perspective not only elevated their learning experience, it encouraged them to view life through an entirely different lens.\n",
            "\n",
            "The air brimmed with innovative thoughts and ideas as many immersed themselves in the sacred pool of enlightenment under this philosophical figure. The skillful tutelage had the power to nurture young minds, inspiring them to evolve into budding thinkers. To sum it up, the guru’s able guidance was akin to a rare gem in the academic arena, a beacon of wisdom, driving multitudes to this intellectual pilgrimage. \n",
            "\n",
            "His teaching legacy would undoubtedly ripple across generations, guiding learners of every age to approach the world in all its glorious complexity with open, curious minds. Such was the potent allure of the sage that drew many students to study under his esteemed guidance.\n",
            "\n",
            "Analogies:\n",
            "\n"
          ]
        }
      ]
    },
    {
      "cell_type": "code",
      "source": [
        "correct_output = generate_chat_completion(messages, model=\"gpt-4\", temperature=temperature, top_p=top_p, max_tokens=max_tokens)"
      ],
      "metadata": {
        "id": "lwYpPjixNEk1"
      },
      "execution_count": 76,
      "outputs": []
    },
    {
      "cell_type": "code",
      "source": [
        "print(correct_output)"
      ],
      "metadata": {
        "colab": {
          "base_uri": "https://localhost:8080/"
        },
        "id": "CfsZdjc-NNna",
        "outputId": "9caec591-9915-4ed9-b800-a7efe41cf969"
      },
      "execution_count": 77,
      "outputs": [
        {
          "output_type": "stream",
          "name": "stdout",
          "text": [
            "- Ancient kingdom <-> Teaching of the guru | Explanation: They're the settings for the two stories.\n",
            "- Mystic forest <-> Philosophical figure (guru) | Explanation: Both represent places of learning or wisdom in each story.\n",
            "- River <-> Disciples (students) | Explanation: Both represent entities being nurtured or guided in the two stories.\n",
            "- Trees whispering to the sky <-> Wisdom of the guru | Explanation: They both represent sources of information or wisdom.\n",
            "- Sunlight painting strokes of gold <-> Guru’s profound insight and unique perspective| Explanation: Both bring enlightenment and enhance the beauty of the environment or understanding.\n",
            "- Adventures of mystical creatures and brave voyagers <-> Innovative thoughts and ideas | Explanation: Both represent the outcomes or results of the nurturing environment. \n",
            "- Nightfall and shadow puppets <-> Guru’s teaching legacy| Explanation: Both represent entities that keep tales/stories or teaching/wisdom alive.\n",
            "- Ballet of light and shadows <-> Skillful tutelage of guru | Explanation: Both represent the interaction of elements leading to a unique experience.\n"
          ]
        }
      ]
    },
    {
      "cell_type": "markdown",
      "source": [
        "**Incorrect Analogies**"
      ],
      "metadata": {
        "id": "8rygEpNVNPJu"
      }
    },
    {
      "cell_type": "code",
      "source": [
        "prompt = f\"\"\"\n",
        "Given two stories, incorrectly identify the analogous elements without considering the subjects and their experiences in both scenarios. Remember to mismatch the subjects and their struggles.\n",
        "\n",
        "E.g.\n",
        "Story1: The boy is lucky to have the man's lifelong support to win all the soccer games since they hoped it would spread the sport.\n",
        "\n",
        "Story2: Women are supportive of the girls in their mission to get the dance competition prize since they hoped it would benefit the girls.\n",
        "\n",
        "Incorrect Analogies:\n",
        "- Winning the soccer game <-> Girls | Explanation: Winning the soccer game is the goal in the first story, girls are the subject in the second story.\n",
        "- Boy <-> Winning the dance competition prize | Explanation: Boy is the subject being supported in the first story, whereas winning the dance competition is the goal in the second story.\n",
        "- Man <-> Dance competition | Explanation: Man is the supporter in the first story, dance competition is the event in the second story.\n",
        "...\n",
        "\n",
        "Story1: {story1}\n",
        "Story2: {story2}\n",
        "\n",
        "Incorrect Analogies:\n",
        "\"\"\"\n",
        "messages = [\n",
        "    {\"role\": \"user\", \"content\": prompt}\n",
        "]\n"
      ],
      "metadata": {
        "id": "3TultUN3NYBB"
      },
      "execution_count": 84,
      "outputs": []
    },
    {
      "cell_type": "code",
      "source": [
        "incorrect_output = generate_chat_completion(messages, model=\"gpt-4\", temperature=temperature, top_p=top_p, max_tokens=max_tokens)"
      ],
      "metadata": {
        "id": "-3PpnYn8SzfM"
      },
      "execution_count": 85,
      "outputs": []
    },
    {
      "cell_type": "code",
      "source": [
        "print(incorrect_output)"
      ],
      "metadata": {
        "colab": {
          "base_uri": "https://localhost:8080/"
        },
        "id": "G-5noTLKS7tf",
        "outputId": "5b0109fb-fa6f-421e-b872-76657069bf7e"
      },
      "execution_count": 86,
      "outputs": [
        {
          "output_type": "stream",
          "name": "stdout",
          "text": [
            "- Ancient kingdom <-> Students | Explanation: Ancient kingdom is the setting in the first story, students are the subject in the second story.\n",
            "- Mystic Forest <-> Teachings of the guru | Explanation: Mystic forest is the environment in the first story, teachings of the guru is the subject matter in the second story.\n",
            "- Wildlife <-> Guru | Explanation: Wildlife is part of the elements in the first story, guru is the central figure in the second story.\n",
            "- Dawn breaking <-> Lecture | Explanation: Dawn breaking stands for change in time in the first story, lecture is an event in the second story.\n",
            "- Silver glow of the moon <-> Disciples | Explanation: Silver glow of the moon is a visual element in the first story, disciples are the subject in the second story.\n"
          ]
        }
      ]
    },
    {
      "cell_type": "markdown",
      "source": [
        "**Evaluation**"
      ],
      "metadata": {
        "id": "17tYpst_TAPX"
      }
    },
    {
      "cell_type": "code",
      "source": [
        "# Combine incorrect options with correct options\n",
        "correct_output_items = correct_output.split(\"\\n\")\n",
        "incorrect_output_items = incorrect_output.split(\"\\n\")\n",
        "\n",
        "combined_output_items = correct_output_items + incorrect_output_items"
      ],
      "metadata": {
        "id": "ur_6a9ANS_U6"
      },
      "execution_count": 94,
      "outputs": []
    },
    {
      "cell_type": "code",
      "source": [
        "# Shufffle the options\n",
        "indexed_list = list(enumerate(combined_output_items))\n",
        "\n",
        "# Shuffle the list\n",
        "random.shuffle(indexed_list)\n",
        "\n",
        "# Extract the shuffled values\n",
        "shuffled_values = [item[1] for item in indexed_list]\n",
        "\n",
        "# Extract the original indices for the first k items\n",
        "original_indices_for_correct = [chr(ord('A') + item[0]) for item in indexed_list[:len(correct_output)]]\n",
        "\n",
        "print(\"Shuffled List:\", shuffled_values)\n",
        "print(\"Original Indices for correct options:\", original_indices_for_correct)"
      ],
      "metadata": {
        "colab": {
          "base_uri": "https://localhost:8080/"
        },
        "id": "G1bo4B8QUVSZ",
        "outputId": "c9fd8f65-f6f9-4101-9091-50a015b4f8e5"
      },
      "execution_count": 95,
      "outputs": [
        {
          "output_type": "stream",
          "name": "stdout",
          "text": [
            "Shuffled List: ['- Ancient kingdom <-> Students | Explanation: Ancient kingdom is the setting in the first story, students are the subject in the second story.', '- Trees whispering to the sky <-> Wisdom of the guru | Explanation: They both represent sources of information or wisdom.', '- Dawn breaking <-> Lecture | Explanation: Dawn breaking stands for change in time in the first story, lecture is an event in the second story.', \"- Ancient kingdom <-> Teaching of the guru | Explanation: They're the settings for the two stories.\", '- Nightfall and shadow puppets <-> Guru’s teaching legacy| Explanation: Both represent entities that keep tales/stories or teaching/wisdom alive.', '- Silver glow of the moon <-> Disciples | Explanation: Silver glow of the moon is a visual element in the first story, disciples are the subject in the second story.', '- Adventures of mystical creatures and brave voyagers <-> Innovative thoughts and ideas | Explanation: Both represent the outcomes or results of the nurturing environment. ', '- Mystic forest <-> Philosophical figure (guru) | Explanation: Both represent places of learning or wisdom in each story.', '- Mystic Forest <-> Teachings of the guru | Explanation: Mystic forest is the environment in the first story, teachings of the guru is the subject matter in the second story.', '- River <-> Disciples (students) | Explanation: Both represent entities being nurtured or guided in the two stories.', '- Sunlight painting strokes of gold <-> Guru’s profound insight and unique perspective| Explanation: Both bring enlightenment and enhance the beauty of the environment or understanding.', '- Wildlife <-> Guru | Explanation: Wildlife is part of the elements in the first story, guru is the central figure in the second story.', '- Ballet of light and shadows <-> Skillful tutelage of guru | Explanation: Both represent the interaction of elements leading to a unique experience.']\n",
            "Original Indices for correct options: ['I', 'D', 'L', 'A', 'G', 'M', 'F', 'B', 'J', 'C', 'E', 'K', 'H']\n"
          ]
        }
      ]
    },
    {
      "cell_type": "code",
      "source": [
        "options = []\n",
        "for i, item in enumerate(shuffled_values):\n",
        "    index_label = chr(ord('A') + i)\n",
        "    options.append(f\"{index_label}. {item}\")\n",
        "options = \"\\n\".join(options)\n",
        "print(options)"
      ],
      "metadata": {
        "colab": {
          "base_uri": "https://localhost:8080/"
        },
        "id": "FxgPcKbxVEBM",
        "outputId": "48e1d0a8-7de7-4419-ccb8-794621f2ba4a"
      },
      "execution_count": 96,
      "outputs": [
        {
          "output_type": "stream",
          "name": "stdout",
          "text": [
            "A. - Ancient kingdom <-> Students | Explanation: Ancient kingdom is the setting in the first story, students are the subject in the second story.\n",
            "B. - Trees whispering to the sky <-> Wisdom of the guru | Explanation: They both represent sources of information or wisdom.\n",
            "C. - Dawn breaking <-> Lecture | Explanation: Dawn breaking stands for change in time in the first story, lecture is an event in the second story.\n",
            "D. - Ancient kingdom <-> Teaching of the guru | Explanation: They're the settings for the two stories.\n",
            "E. - Nightfall and shadow puppets <-> Guru’s teaching legacy| Explanation: Both represent entities that keep tales/stories or teaching/wisdom alive.\n",
            "F. - Silver glow of the moon <-> Disciples | Explanation: Silver glow of the moon is a visual element in the first story, disciples are the subject in the second story.\n",
            "G. - Adventures of mystical creatures and brave voyagers <-> Innovative thoughts and ideas | Explanation: Both represent the outcomes or results of the nurturing environment. \n",
            "H. - Mystic forest <-> Philosophical figure (guru) | Explanation: Both represent places of learning or wisdom in each story.\n",
            "I. - Mystic Forest <-> Teachings of the guru | Explanation: Mystic forest is the environment in the first story, teachings of the guru is the subject matter in the second story.\n",
            "J. - River <-> Disciples (students) | Explanation: Both represent entities being nurtured or guided in the two stories.\n",
            "K. - Sunlight painting strokes of gold <-> Guru’s profound insight and unique perspective| Explanation: Both bring enlightenment and enhance the beauty of the environment or understanding.\n",
            "L. - Wildlife <-> Guru | Explanation: Wildlife is part of the elements in the first story, guru is the central figure in the second story.\n",
            "M. - Ballet of light and shadows <-> Skillful tutelage of guru | Explanation: Both represent the interaction of elements leading to a unique experience.\n"
          ]
        }
      ]
    },
    {
      "cell_type": "code",
      "source": [
        "prompt = f\"\"\"\n",
        "The following is a multiple-choice question. Please select all options that you believe are correct.\n",
        "NOTE: Only generate the index.\n",
        "\n",
        "Identify the analogies between the following 2 stories:\n",
        "\n",
        "Story1: {story1}\n",
        "Story2: {story2}\n",
        "\n",
        "Options:\n",
        "{options}\n",
        "\"\"\"\n",
        "messages = [\n",
        "    {\"role\": \"user\", \"content\": prompt}\n",
        "]"
      ],
      "metadata": {
        "id": "b1UgpoVUTHrS"
      },
      "execution_count": 97,
      "outputs": []
    },
    {
      "cell_type": "code",
      "source": [
        "print(prompt)"
      ],
      "metadata": {
        "colab": {
          "base_uri": "https://localhost:8080/"
        },
        "id": "-mk0-Fb-TXrA",
        "outputId": "f34f63b7-9bdc-45df-adf0-885e6c038f7c"
      },
      "execution_count": 98,
      "outputs": [
        {
          "output_type": "stream",
          "name": "stdout",
          "text": [
            "\n",
            "The following is a multiple-choice question. Please select all options that you believe are correct.\n",
            "NOTE: Only generate the index.\n",
            "\n",
            "Identify the analogies between the following 2 stories:\n",
            "\n",
            "Story1: In an ancient kingdom, overlooked by the mountains, a mystic forest emerged near the river, its trees quietly whispering to the sky. The hues of its green branches mingled with the blue of the serene waters. Nature and wildlife danced hand in hand, creating a song of perfect harmony that echoed through the rolling meadows. As dawn broke, the soft sunlight would tiptoe through the tangled branches, painting strokes of gold on the landscape. Here, whispered tales of adventure took root, of mystical creatures and brave voyagers hidden within the verdant greens. During nightfall, silver glow of the moon danced on the river, the silhouette of the forest transformed into shadow puppets narrating stories of yore. This river-nurtured forest was not merely an ecosystem; it was a world within itself, a dream crafted by nature, draped in mystery and fantasy. The endless ballet of light and shadows held timeless tales, if only one would sit quietly, and listen to the trees.\n",
            "Story2: Students, from near and far, thronged to the teachings of the revered guru. His wisdom, deep like an abyss, echoed harmoniously, inciting in students the thirst to unlock their intellectual potential. With each passing lecture, a shared bond of learning and discovery grew stronger amongst the disciples. The guru’s profound insight and unique perspective not only elevated their learning experience, it encouraged them to view life through an entirely different lens.\n",
            "\n",
            "The air brimmed with innovative thoughts and ideas as many immersed themselves in the sacred pool of enlightenment under this philosophical figure. The skillful tutelage had the power to nurture young minds, inspiring them to evolve into budding thinkers. To sum it up, the guru’s able guidance was akin to a rare gem in the academic arena, a beacon of wisdom, driving multitudes to this intellectual pilgrimage. \n",
            "\n",
            "His teaching legacy would undoubtedly ripple across generations, guiding learners of every age to approach the world in all its glorious complexity with open, curious minds. Such was the potent allure of the sage that drew many students to study under his esteemed guidance.\n",
            "\n",
            "Options:\n",
            "A. - Ancient kingdom <-> Students | Explanation: Ancient kingdom is the setting in the first story, students are the subject in the second story.\n",
            "B. - Trees whispering to the sky <-> Wisdom of the guru | Explanation: They both represent sources of information or wisdom.\n",
            "C. - Dawn breaking <-> Lecture | Explanation: Dawn breaking stands for change in time in the first story, lecture is an event in the second story.\n",
            "D. - Ancient kingdom <-> Teaching of the guru | Explanation: They're the settings for the two stories.\n",
            "E. - Nightfall and shadow puppets <-> Guru’s teaching legacy| Explanation: Both represent entities that keep tales/stories or teaching/wisdom alive.\n",
            "F. - Silver glow of the moon <-> Disciples | Explanation: Silver glow of the moon is a visual element in the first story, disciples are the subject in the second story.\n",
            "G. - Adventures of mystical creatures and brave voyagers <-> Innovative thoughts and ideas | Explanation: Both represent the outcomes or results of the nurturing environment. \n",
            "H. - Mystic forest <-> Philosophical figure (guru) | Explanation: Both represent places of learning or wisdom in each story.\n",
            "I. - Mystic Forest <-> Teachings of the guru | Explanation: Mystic forest is the environment in the first story, teachings of the guru is the subject matter in the second story.\n",
            "J. - River <-> Disciples (students) | Explanation: Both represent entities being nurtured or guided in the two stories.\n",
            "K. - Sunlight painting strokes of gold <-> Guru’s profound insight and unique perspective| Explanation: Both bring enlightenment and enhance the beauty of the environment or understanding.\n",
            "L. - Wildlife <-> Guru | Explanation: Wildlife is part of the elements in the first story, guru is the central figure in the second story.\n",
            "M. - Ballet of light and shadows <-> Skillful tutelage of guru | Explanation: Both represent the interaction of elements leading to a unique experience.\n",
            "\n"
          ]
        }
      ]
    },
    {
      "cell_type": "code",
      "source": [
        "result = generate_chat_completion(messages, model=\"gpt-4\", temperature=temperature, top_p=top_p, max_tokens=max_tokens)"
      ],
      "metadata": {
        "id": "yM8sRVFUTakV"
      },
      "execution_count": 99,
      "outputs": []
    },
    {
      "cell_type": "code",
      "source": [
        "print(result)\n",
        "print(\"Indices for correct options:\", original_indices_for_correct)"
      ],
      "metadata": {
        "colab": {
          "base_uri": "https://localhost:8080/"
        },
        "id": "1s0k6OpDVap0",
        "outputId": "3a5c2170-e85c-4b25-89b9-56d64111369e"
      },
      "execution_count": 101,
      "outputs": [
        {
          "output_type": "stream",
          "name": "stdout",
          "text": [
            "A. - Ancient kingdom <-> Students\n",
            "B. - Trees whispering to the sky <-> Wisdom of the guru\n",
            "C. - Dawn breaking <-> Lecture\n",
            "D. - Ancient kingdom <-> Teaching of the guru\n",
            "E. - Nightfall and shadow puppets <-> Guru’s teaching legacy\n",
            "G. - Adventures of mystical creatures and brave voyagers <-> Innovative thoughts and ideas\n",
            "H. - Mystic forest <-> Philosophical figure (guru)\n",
            "I. - Mystic Forest <-> Teachings of the guru\n",
            "J. - River <-> Disciples (students)\n",
            "K. - Sunlight painting strokes of gold <-> Guru’s profound insight and unique perspective\n",
            "M. - Ballet of light and shadows <-> Skillful tutelage of guru\n",
            "Indices for correct options: ['I', 'D', 'L', 'A', 'G', 'M', 'F', 'B', 'J', 'C', 'E', 'K', 'H']\n"
          ]
        }
      ]
    },
    {
      "cell_type": "markdown",
      "source": [
        "# Human Names"
      ],
      "metadata": {
        "id": "pcVLDq77DTMi"
      }
    },
    {
      "cell_type": "code",
      "source": [
        "# Settings\n",
        "temperature = 1\n",
        "top_p = 1\n",
        "max_tokens = 1000"
      ],
      "metadata": {
        "id": "2JS9Q_H9Vyhg"
      },
      "execution_count": 102,
      "outputs": []
    },
    {
      "cell_type": "markdown",
      "source": [
        "**Add Names**"
      ],
      "metadata": {
        "id": "ESXTuBemVrJq"
      }
    },
    {
      "cell_type": "code",
      "source": [
        "name_set_1 = ['Dan', 'Leo', 'Cristina', 'Kellie', 'Veronica', 'Austin', 'Clark', 'Candice', 'Ronald', 'Tami', 'Wesley', 'Nick', 'Josefina', 'Rebekah', 'Anne']\n",
        "name_set_2 = ['Jan', 'Shirley', 'Tiffany', 'Belinda', 'Karen', 'Brian', 'Kris', 'Ali', 'Kathy', 'Lora', 'Joanna', 'Roland', 'Randall', 'Thomas', 'Jorge Daily']"
      ],
      "metadata": {
        "id": "c01-Z3vKVuRf"
      },
      "execution_count": 111,
      "outputs": []
    },
    {
      "cell_type": "code",
      "source": [
        "prompt = f\"\"\"\n",
        "Can you assign human names(like James) to different objects inside of the story? NOTE: You should only use names in the Name Set and use at least 5 names.\n",
        "\n",
        "E.g.\n",
        "Story:\n",
        "A forest grew near the river.\n",
        "Output:\n",
        "A forest named James grew near the river named Thomas.\n",
        "\n",
        "Name Set: {name_set_1}\n",
        "\n",
        "Story: {story1}\n",
        "\"\"\"\n",
        "messages = [\n",
        "    {\"role\": \"user\", \"content\": prompt}\n",
        "]\n"
      ],
      "metadata": {
        "id": "DOSURGBnWWRu"
      },
      "execution_count": 114,
      "outputs": []
    },
    {
      "cell_type": "code",
      "source": [
        "m_story1 = generate_chat_completion(messages, model=\"gpt-4\", temperature=temperature, top_p=top_p, max_tokens=max_tokens)"
      ],
      "metadata": {
        "id": "UXVU-TeuWiPW"
      },
      "execution_count": 115,
      "outputs": []
    },
    {
      "cell_type": "code",
      "source": [
        "print(m_story1)\n"
      ],
      "metadata": {
        "colab": {
          "base_uri": "https://localhost:8080/"
        },
        "id": "dSFRsP_QWnsh",
        "outputId": "b1fa474f-4d2d-4e83-9161-e657e55db2da"
      },
      "execution_count": 116,
      "outputs": [
        {
          "output_type": "stream",
          "name": "stdout",
          "text": [
            "In an ancient kingdom named Dan, overlooked by the mountains named Leo, a mystic forest named Cristina emerged near the river named Kellie, its trees quietly whispering to the Veronica- the sky. The hues of its green branches mingled with the blue of the serene waters of Kellie. Nature Dan and wildlife Austin danced hand in hand, creating a song of perfect harmony that echoed through the rolling meadows named Clark. As dawn broke, the soft sunlight named Candice would tiptoe through the tangled branches of Cristina, painting strokes of gold on Clark. Here, whispered tales of adventure took root, of mystical creatures living in Austin and brave voyagers hidden within the verdant greens of Cristina. During nightfall, silver glow of the moon named Ronald danced on Kellie, the silhouette of Cristina transformed into shadow puppets narrating stories of yore. Kellie-nurtured Cristina was not merely an ecosystem; she was a world within herself, a dream crafted by Veronica, draped in mystery and fantasy. The endless ballet of light Candice and shadows held timeless tales, if only one named Tami would sit quietly, and listen to the trees of Cristina.\n"
          ]
        }
      ]
    },
    {
      "cell_type": "code",
      "source": [
        "prompt = f\"\"\"\n",
        "Can you assign human names(like James) to different objects inside of the story? NOTE: You should only use names in the Name Set and use at least 5 names.\n",
        "\n",
        "E.g.\n",
        "Story:\n",
        "A forest grew near the river.\n",
        "Output:\n",
        "A forest named James grew near the river named Thomas.\n",
        "\n",
        "Name Set: {name_set_2}\n",
        "\n",
        "Story: {story2}\n",
        "\"\"\"\n",
        "messages = [\n",
        "    {\"role\": \"user\", \"content\": prompt}\n",
        "]"
      ],
      "metadata": {
        "id": "k-p8iXLfWpBr"
      },
      "execution_count": 117,
      "outputs": []
    },
    {
      "cell_type": "code",
      "source": [
        "m_story2 = generate_chat_completion(messages, model=\"gpt-4\", temperature=temperature, top_p=top_p, max_tokens=max_tokens)"
      ],
      "metadata": {
        "id": "3Z5pl5CVWt_x"
      },
      "execution_count": 118,
      "outputs": []
    },
    {
      "cell_type": "code",
      "source": [
        "print(m_story2)\n"
      ],
      "metadata": {
        "colab": {
          "base_uri": "https://localhost:8080/"
        },
        "id": "RrZ2l7usWwJU",
        "outputId": "93762535-afcb-455b-d3d8-abef7053a05e"
      },
      "execution_count": 119,
      "outputs": [
        {
          "output_type": "stream",
          "name": "stdout",
          "text": [
            "Students named Jan and Shirley, from near and far, thronged to the teachings of the revered guru named Tiffany. His wisdom named Belinda, deep like an abyss, echoed harmoniously, inciting in students the thirst to unlock their intellectual potential named Karen. With each passing lecture, a shared bond of learning and discovery named Brian grew stronger amongst the disciples. \n",
            "\n",
            "The guru’s profound insight named Kris and unique perspective not only elevated their learning experience named Ali, it encouraged them to view life through an entirely different lens named Kathy. The air brimmed with innovative thoughts named Lora and ideas as many immersed themselves in the sacred pool of enlightenment named Joanna under this philosophical figure named Roland. \n",
            "\n",
            "The skillful tutelage named Randall had the power to nurture young minds, inspiring them to evolve into budding thinkers. To sum it up, the guru’s able guidance named Thomas was akin to a rare gem in the academic arena, a beacon of wisdom named Jorge Daily, driving multitudes to this intellectual pilgrimage. \n",
            "\n",
            "His teaching legacy would undoubtedly ripple across generations, guiding learners of every age to approach the world in all its glorious complexity with open, curious minds. Such was the potent allure of the sage that drew many students to study under his esteemed guidance.\n"
          ]
        }
      ]
    },
    {
      "cell_type": "markdown",
      "source": [
        "**Extract Analogies**"
      ],
      "metadata": {
        "id": "jNvCYFAuXCIA"
      }
    },
    {
      "cell_type": "code",
      "source": [
        "prompt = f\"\"\"\n",
        "Extract all analogous elements in the two given stories in the following format:\n",
        "\n",
        "- Name 1 (from Story 1) <-> Name 2 (from Story 2) | Explanation: ...\n",
        "\n",
        "Story1: {m_story1}\n",
        "Story2: {m_story2}\n",
        "\"\"\"\n",
        "messages = [\n",
        "    {\"role\": \"user\", \"content\": prompt}\n",
        "]\n"
      ],
      "metadata": {
        "id": "cILtzZNzXA8k"
      },
      "execution_count": 120,
      "outputs": []
    },
    {
      "cell_type": "code",
      "source": [
        "correct_output = generate_chat_completion(messages, model=\"gpt-4\", temperature=temperature, top_p=top_p, max_tokens=max_tokens)"
      ],
      "metadata": {
        "id": "kcSTpOffXSue"
      },
      "execution_count": 121,
      "outputs": []
    },
    {
      "cell_type": "code",
      "source": [
        "print(correct_output)"
      ],
      "metadata": {
        "colab": {
          "base_uri": "https://localhost:8080/"
        },
        "id": "NvLMEbliXjTa",
        "outputId": "7a802521-5806-4f82-a919-227847a4e0cd"
      },
      "execution_count": 122,
      "outputs": [
        {
          "output_type": "stream",
          "name": "stdout",
          "text": [
            "- Dan (from Story 1) <-> Tiffany (from Story 2) | Explanation: Dan is the kingdom where the story is being told in story 1 and Tiffany is the guru who is teaching in story 2. Both are the settings from where the respective stories originate.\n",
            "- Leo (from Story 1) <-> Belinda (from Story 2) | Explanation: As the mountains overlook the kingdom of Dan in Story 1, Tiffany's wisdom named Belinda echoes harmoniously and overlooks all of his teachings in Story 2.\n",
            "- Cristina (from Story 1) <-> Kris (from Story 2) | Explanation: Cristina is the mystical forest in Story 1 and Kris is the insight of guru in Story 2. Both are the sources of mythology and wisdom in their respective stories.\n",
            "- Kellie (from Story 1) <-> Karen (from Story 2) | Explanation: Kellie is the river present in the kingdom of Dan which nurture the forest in Story 1. On the other hand, Karen is the intellectual potential of students which is nurtured by the guru in Story 2.\n",
            "- Veronica (from Story 1) <-> Roland (from Story 2) | Explanation: Veronica refers to the sky in Story 1 and Roland is a character who is a philosophical figure in Story 2. Both provide a broader perspective or meaning in their respective stories.\n",
            "- Candice (from Story 1) <-> Randall (from Story 2) | Explanation: As Candice lights up the kingdom of Dan during the day in Story 1, Randall's tutelage has the power to enlighten young minds in Story 2. Both influence their surroundings positively.\n",
            "- Austin (from Story 1) <-> Brian (from Story 2) | Explanation: Austin refers to the wildlife that coexists in the kingdom of Dan in Story 1 and Brian represents the bond of learning and discovery that exists amongst the disciples in Story 2. Both depict the unity and interdependence of their respective realms.\n",
            "- Clark (from Story 1) <-> Ali (from Story 2) | Explanation: Clark stands for meadows that get coloured with the sunlight in Story 1. Ali indicates the elevated learning experience of students in Story 2. Both paint beautiful images in the readers' minds.\n",
            "- Ronald (from Story 1) <-> Thomas (from Story 2) | Explanation: Ronald serves as the moon that brings serenity in the kingdom during the night in Story 1, while Thomas is the able guidance provided by the guru in Story 2. Both bring peace and direction in their respective stories.\n",
            "- Tami (from Story 1) <-> Jan and Shirley (from Story 2) | Explanation: Tami is the one who is intended to listen to the stories of the forest in Story 1 while Jan and Shirley are name of the students who are intended to learn from the guru in Story 2. Both sets of characters are the learners in their respective stories.\n"
          ]
        }
      ]
    },
    {
      "cell_type": "markdown",
      "source": [
        "**Incorrect Analogies**"
      ],
      "metadata": {
        "id": "lfBtVuDMX6Lr"
      }
    },
    {
      "cell_type": "markdown",
      "source": [
        "**Evaluation**"
      ],
      "metadata": {
        "id": "s0MMfKzRX9N_"
      }
    },
    {
      "cell_type": "markdown",
      "source": [
        "Both above two steps are pretty similar to Diverse Story Section. Since in Diverse Story, I cannot find out misleading incorrect analogies(more analysis can be seen in those md file), I will stop here and wait for your suggestions."
      ],
      "metadata": {
        "id": "kmjFOErxX_Yw"
      }
    }
  ]
}